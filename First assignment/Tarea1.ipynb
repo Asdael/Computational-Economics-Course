{
 "cells": [
  {
   "cell_type": "markdown",
   "id": "cbae21be-291a-40d6-b30f-913fc104b53b",
   "metadata": {},
   "source": [
    "# Tarea 1 \n",
    "\n",
    "**Curso SP6527 Economía Computacional**\n",
    "\n",
    "Estudiante:  Alexander Robles Vargas, carné B76394\n",
    "\n",
    "Fecha de entrega: lunes 19 de setiembre, 7pm"
   ]
  },
  {
   "cell_type": "code",
   "execution_count": 12,
   "id": "18c649b6-c007-4955-bf5e-c2cd7490c764",
   "metadata": {},
   "outputs": [],
   "source": [
    "from compecon import NLP\n",
    "import numpy as np\n",
    "import pandas as pd\n",
    "#from numpy.linalg import solve"
   ]
  },
  {
   "cell_type": "markdown",
   "id": "0569ef4d-a631-4e5c-880a-006dc2766458",
   "metadata": {},
   "source": [
    "## Pregunta 1\n",
    "Resuelva el siguiente sistema de ecuaciones, usando la función `numpy.linalg.solve`:\n",
    "\\begin{align*}\n",
    "3x - 0.1y - 0.2z &= 7.85 \\\\\n",
    "0.1x + 7y - 0.3z &=-19.3 \\\\\n",
    "0.3x -0.2y + 10z &= 71.4\n",
    "\\end{align*}"
   ]
  },
  {
   "cell_type": "code",
   "execution_count": 60,
   "id": "0517dc51-3095-45dd-9cc9-c8cff9483616",
   "metadata": {},
   "outputs": [
    {
     "name": "stdout",
     "output_type": "stream",
     "text": [
      "x=3.0,  y=-2.5,  z=7.000000000000002\n"
     ]
    }
   ],
   "source": [
    "A = np.array([[3,-0.1,-0.2],\n",
    "              [0.1,7,-0.3],\n",
    "              [0.3,-0.2,10]])\n",
    "b = np.array([7.85,-19.3,71.4])\n",
    "\n",
    "x, y, z = np.linalg.solve(A,b)\n",
    "print(f'{x=},  {y=},  {z=}')"
   ]
  },
  {
   "cell_type": "markdown",
   "id": "8978daf1-5d36-446f-b7f3-86e4f8f8c326",
   "metadata": {},
   "source": [
    "## Pregunta 2\n",
    "Resuelva el sistema de ecuaciones lineales \n",
    "\\begin{align*}\n",
    "x + 7y -4z &= -51\\\\\n",
    "4x-4y+9z &= 62 \\\\\n",
    "12x -y +3z &= 8\n",
    "\\end{align*}\n",
    "utilizando para ello la descomposición LU con pivoteo parcial.\n",
    "\n",
    "### (a) \n",
    "Use la función `scipy.linalg.lu` para obtener la descomposición LU de la matriz \n",
    "\\begin{equation*}\n",
    "A = \\begin{bmatrix} 1 & 7 & -4 \\\\ 4 & -4 & 9 \\\\ 12 & -1 & 3 \\end{bmatrix}\n",
    "\\end{equation*}\n",
    "Pista:\n",
    "\n",
    "    from scipy.linalg import lu\n",
    "    A = # completar esto\n",
    "    L , U = lu(A, permute_l=True)"
   ]
  },
  {
   "cell_type": "code",
   "execution_count": 14,
   "id": "7780969d-3483-4f3f-94b9-ee2b053ae08d",
   "metadata": {},
   "outputs": [
    {
     "name": "stdout",
     "output_type": "stream",
     "text": [
      "L=array([[ 0.0833,  1.    ,  0.    ],\n",
      "       [ 0.3333, -0.5176,  1.    ],\n",
      "       [ 1.    ,  0.    ,  0.    ]]),\n",
      "\n",
      "U=array([[12.    , -1.    ,  3.    ],\n",
      "       [ 0.    ,  7.0833, -4.25  ],\n",
      "       [ 0.    ,  0.    ,  5.8   ]])\n"
     ]
    }
   ],
   "source": [
    "from scipy.linalg import lu\n",
    "\n",
    "A = np.array([[1,7,-4],\n",
    "              [4,-4,9],\n",
    "              [12,-1,3]])\n",
    "\n",
    "L , U = lu(A, permute_l=True)\n",
    "print(f'{L=},\\n\\n{U=}')"
   ]
  },
  {
   "cell_type": "markdown",
   "id": "4fc219ac-631e-44e6-b14c-8252fc645ac6",
   "metadata": {},
   "source": [
    "Verifique su resultado multiplicando $L$ por $U$. Debe ser igual a $A$"
   ]
  },
  {
   "cell_type": "code",
   "execution_count": 21,
   "id": "763e1caa-bc97-49b1-8ec6-dd8c4f576ca0",
   "metadata": {},
   "outputs": [
    {
     "name": "stdout",
     "output_type": "stream",
     "text": [
      "L@U=array([[ 1.,  7., -4.],\n",
      "       [ 4., -4.,  9.],\n",
      "       [12., -1.,  3.]])\n"
     ]
    }
   ],
   "source": [
    "print(f'{L@U=}')"
   ]
  },
  {
   "cell_type": "markdown",
   "id": "61bfb1bd-86fb-4109-b58b-f0ee8c99feb3",
   "metadata": {},
   "source": [
    "### (b)\n",
    "Utilice este resultado para resolver “con papel y lápiz” el sistema de ecuaciones."
   ]
  },
  {
   "cell_type": "code",
   "execution_count": 26,
   "id": "a2ac6ff2-6849-4b27-bfab-1c98631a4300",
   "metadata": {},
   "outputs": [
    {
     "name": "stdout",
     "output_type": "stream",
     "text": [
      "x1=-1.0649087221095332,  x2=-3.922920892494929,  x3=5.61866125760649\n"
     ]
    }
   ],
   "source": [
    "y1 = 8 / L[2][0]\n",
    "y2 = (-51 - L[0][0]*y1) / L[0][1]\n",
    "y3 = (62 -(L[1][0]*y1 + L[1][1]*y2)) / L[1][2]\n",
    "\n",
    "x3 = y3 / U[2][2]\n",
    "x2 = (y2 - U[1][2]*x3) / U[1][1]\n",
    "x1 = (y1 - (U[0][2]*x3 + U[0][1]*x2)) / U[0][0]\n",
    "\n",
    "print(f'{x1=},  {x2=},  {x3=}')"
   ]
  },
  {
   "cell_type": "markdown",
   "id": "28c8113b-c251-4928-ae01-4c6ca64d98da",
   "metadata": {},
   "source": [
    "### (c)\n",
    "Compare su resultado con el que obtendría resolviendo el sistema con la función `numpy.linalg.solve`."
   ]
  },
  {
   "cell_type": "code",
   "execution_count": 27,
   "id": "d97c86cb-959e-46ce-8523-cd71b62087a4",
   "metadata": {},
   "outputs": [
    {
     "name": "stdout",
     "output_type": "stream",
     "text": [
      "x=-1.0649087221095332,  y=-3.922920892494929,  z=5.61866125760649\n"
     ]
    }
   ],
   "source": [
    "b = np.array([-51,62,8])\n",
    "\n",
    "x, y, z = np.linalg.solve(A, b)\n",
    "print(f'{x=},  {y=},  {z=}')"
   ]
  },
  {
   "cell_type": "markdown",
   "id": "29644889-1184-424f-aa03-877f5af20768",
   "metadata": {},
   "source": [
    "## Pregunta 5\n",
    "Considere el problema de encontrar la raíz cúbica $x$ de un número real arbitrario $a$.\n",
    "\n",
    "### (a)\n",
    "Escriba una función de Python, llámela `raizcubica`, que tome por argumento cualquier número real $a$ y que retorne su raíz cúbica:\n",
    "\\begin{equation*}\n",
    "x \\equiv \\texttt{raizcubica}(a) = \\sqrt[3]{a}\n",
    "\\end{equation*}\n",
    "La función debe usar el método de Newton, partiendo de un valor inicial $x_0=1$. **Nota**: No puede utilizar ninguna función del paquete \\codigo{compecon} en esta parte."
   ]
  },
  {
   "cell_type": "code",
   "execution_count": 38,
   "id": "60911bf9-a1e6-4b98-a8ad-6cee5241b904",
   "metadata": {},
   "outputs": [],
   "source": [
    "def raizcubica(a):\n",
    "    x = 1.0\n",
    "    for it in range(100):\n",
    "        print(it,x)\n",
    "        step = - (a-x**3) / (-3*x**2)\n",
    "        x += step\n",
    "        if abs(step)<1.e-11: break"
   ]
  },
  {
   "cell_type": "markdown",
   "id": "1bc60ab7-3107-4563-adfd-92811bf6be0c",
   "metadata": {},
   "source": [
    "### (b)\n",
    "Pruebe su función con el valor $x=64$."
   ]
  },
  {
   "cell_type": "code",
   "execution_count": 39,
   "id": "3bed30e7-2c9c-4661-9387-f3bac2d81ee2",
   "metadata": {},
   "outputs": [
    {
     "name": "stdout",
     "output_type": "stream",
     "text": [
      "0 1.0\n",
      "1 22.0\n",
      "2 14.710743801652892\n",
      "3 9.905742680039774\n",
      "4 6.821241015893387\n",
      "5 5.005986187320335\n",
      "6 4.18861783653922\n",
      "7 4.008366165439264\n",
      "8 4.000017449510739\n",
      "9 4.000000000076121\n",
      "10 4.0\n"
     ]
    }
   ],
   "source": [
    "raizcubica(64)"
   ]
  },
  {
   "cell_type": "markdown",
   "id": "aa1724bd-37c6-4f12-88d4-0d75d38e9d23",
   "metadata": {},
   "source": [
    "### (c)\n",
    "Escriba una nueva función de Python, llámela `raizcubica2`, que haga la misma tarea que la función `raizcubica`, pero que utilice para ello la clase `NLP` del paquete **compecon** y aplique el método de Broyden en vez del método de Newton."
   ]
  },
  {
   "cell_type": "code",
   "execution_count": 96,
   "id": "7853e6d3-512c-494e-ad6b-a3fe7246777f",
   "metadata": {},
   "outputs": [
    {
     "ename": "TypeError",
     "evalue": "loop of ufunc does not support argument 0 of type NoneType which has no callable conjugate method",
     "output_type": "error",
     "traceback": [
      "\u001b[1;31m---------------------------------------------------------------------------\u001b[0m",
      "\u001b[1;31mAttributeError\u001b[0m                            Traceback (most recent call last)",
      "\u001b[1;31mAttributeError\u001b[0m: 'NoneType' object has no attribute 'conjugate'",
      "\nThe above exception was the direct cause of the following exception:\n",
      "\u001b[1;31mTypeError\u001b[0m                                 Traceback (most recent call last)",
      "\u001b[1;32m~\\AppData\\Local\\Temp\\ipykernel_7452\\2190381702.py\u001b[0m in \u001b[0;36m<module>\u001b[1;34m\u001b[0m\n\u001b[0;32m      3\u001b[0m     \u001b[1;32mreturn\u001b[0m \u001b[0mx\u001b[0m\u001b[1;33m\u001b[0m\u001b[1;33m\u001b[0m\u001b[0m\n\u001b[0;32m      4\u001b[0m \u001b[1;33m\u001b[0m\u001b[0m\n\u001b[1;32m----> 5\u001b[1;33m \u001b[0mraizcubica2\u001b[0m\u001b[1;33m(\u001b[0m\u001b[1;36m64\u001b[0m\u001b[1;33m)\u001b[0m\u001b[1;33m\u001b[0m\u001b[1;33m\u001b[0m\u001b[0m\n\u001b[0m",
      "\u001b[1;32m~\\AppData\\Local\\Temp\\ipykernel_7452\\2190381702.py\u001b[0m in \u001b[0;36mraizcubica2\u001b[1;34m(a)\u001b[0m\n\u001b[0;32m      1\u001b[0m \u001b[1;32mdef\u001b[0m \u001b[0mraizcubica2\u001b[0m\u001b[1;33m(\u001b[0m\u001b[0ma\u001b[0m\u001b[1;33m)\u001b[0m\u001b[1;33m:\u001b[0m\u001b[1;33m\u001b[0m\u001b[1;33m\u001b[0m\u001b[0m\n\u001b[1;32m----> 2\u001b[1;33m     \u001b[0mx\u001b[0m \u001b[1;33m=\u001b[0m \u001b[0mNLP\u001b[0m\u001b[1;33m(\u001b[0m\u001b[1;32mlambda\u001b[0m \u001b[0mx\u001b[0m\u001b[1;33m:\u001b[0m \u001b[0ma\u001b[0m\u001b[1;33m-\u001b[0m\u001b[0mx\u001b[0m\u001b[1;33m**\u001b[0m\u001b[1;36m3\u001b[0m\u001b[1;33m)\u001b[0m\u001b[1;33m.\u001b[0m\u001b[0mbroyden\u001b[0m\u001b[1;33m(\u001b[0m\u001b[1;33m[\u001b[0m\u001b[1;36m1.0\u001b[0m\u001b[1;33m]\u001b[0m\u001b[1;33m,\u001b[0m \u001b[0mshow\u001b[0m\u001b[1;33m=\u001b[0m\u001b[1;32mTrue\u001b[0m\u001b[1;33m)\u001b[0m\u001b[1;33m\u001b[0m\u001b[1;33m\u001b[0m\u001b[0m\n\u001b[0m\u001b[0;32m      3\u001b[0m     \u001b[1;32mreturn\u001b[0m \u001b[0mx\u001b[0m\u001b[1;33m\u001b[0m\u001b[1;33m\u001b[0m\u001b[0m\n\u001b[0;32m      4\u001b[0m \u001b[1;33m\u001b[0m\u001b[0m\n\u001b[0;32m      5\u001b[0m \u001b[0mraizcubica2\u001b[0m\u001b[1;33m(\u001b[0m\u001b[1;36m64\u001b[0m\u001b[1;33m)\u001b[0m\u001b[1;33m\u001b[0m\u001b[1;33m\u001b[0m\u001b[0m\n",
      "\u001b[1;32mc:\\Users\\Asdael\\Anaconda3\\envs\\ComputationalEconomics\\lib\\site-packages\\compecon\\nonlinear.py\u001b[0m in \u001b[0;36mbroyden\u001b[1;34m(self, x0, **kwargs)\u001b[0m\n\u001b[0;32m    258\u001b[0m         \u001b[0mfx\u001b[0m\u001b[1;33m,\u001b[0m \u001b[0m_\u001b[0m \u001b[1;33m=\u001b[0m \u001b[0mself\u001b[0m\u001b[1;33m.\u001b[0m\u001b[0mf\u001b[0m\u001b[1;33m(\u001b[0m\u001b[0mx\u001b[0m\u001b[1;33m)\u001b[0m\u001b[1;33m\u001b[0m\u001b[1;33m\u001b[0m\u001b[0m\n\u001b[0;32m    259\u001b[0m \u001b[1;33m\u001b[0m\u001b[0m\n\u001b[1;32m--> 260\u001b[1;33m         \u001b[0mJinv\u001b[0m \u001b[1;33m=\u001b[0m \u001b[0mself\u001b[0m\u001b[1;33m.\u001b[0m\u001b[0mreset_inverse_jacobian\u001b[0m\u001b[1;33m(\u001b[0m\u001b[0mx\u001b[0m\u001b[1;33m)\u001b[0m\u001b[1;33m\u001b[0m\u001b[1;33m\u001b[0m\u001b[0m\n\u001b[0m\u001b[0;32m    261\u001b[0m \u001b[1;33m\u001b[0m\u001b[0m\n\u001b[0;32m    262\u001b[0m         \u001b[0mfnorm\u001b[0m \u001b[1;33m=\u001b[0m \u001b[0mnp\u001b[0m\u001b[1;33m.\u001b[0m\u001b[0mmax\u001b[0m\u001b[1;33m(\u001b[0m\u001b[0mnp\u001b[0m\u001b[1;33m.\u001b[0m\u001b[0mabs\u001b[0m\u001b[1;33m(\u001b[0m\u001b[0mfx\u001b[0m\u001b[1;33m)\u001b[0m\u001b[1;33m)\u001b[0m\u001b[1;33m\u001b[0m\u001b[1;33m\u001b[0m\u001b[0m\n",
      "\u001b[1;32mc:\\Users\\Asdael\\Anaconda3\\envs\\ComputationalEconomics\\lib\\site-packages\\compecon\\nonlinear.py\u001b[0m in \u001b[0;36mreset_inverse_jacobian\u001b[1;34m(self, x)\u001b[0m\n\u001b[0;32m    381\u001b[0m                 \u001b[0mfjac\u001b[0m \u001b[1;33m=\u001b[0m \u001b[0mself\u001b[0m\u001b[1;33m.\u001b[0m\u001b[0mf\u001b[0m\u001b[1;33m(\u001b[0m\u001b[0mx\u001b[0m\u001b[1;33m)\u001b[0m\u001b[1;33m[\u001b[0m\u001b[1;36m1\u001b[0m\u001b[1;33m]\u001b[0m\u001b[1;33m\u001b[0m\u001b[1;33m\u001b[0m\u001b[0m\n\u001b[0;32m    382\u001b[0m                 \u001b[1;31m# fjacinv = np.linalg.pinv(jacobian(self.f[0], x))\u001b[0m\u001b[1;33m\u001b[0m\u001b[1;33m\u001b[0m\u001b[0m\n\u001b[1;32m--> 383\u001b[1;33m                 \u001b[0mfjacinv\u001b[0m \u001b[1;33m=\u001b[0m \u001b[0mnp\u001b[0m\u001b[1;33m.\u001b[0m\u001b[0mlinalg\u001b[0m\u001b[1;33m.\u001b[0m\u001b[0mpinv\u001b[0m\u001b[1;33m(\u001b[0m\u001b[0mnp\u001b[0m\u001b[1;33m.\u001b[0m\u001b[0matleast_2d\u001b[0m\u001b[1;33m(\u001b[0m\u001b[0mfjac\u001b[0m\u001b[1;33m)\u001b[0m\u001b[1;33m)\u001b[0m\u001b[1;33m\u001b[0m\u001b[1;33m\u001b[0m\u001b[0m\n\u001b[0m\u001b[0;32m    384\u001b[0m         \u001b[1;32melse\u001b[0m\u001b[1;33m:\u001b[0m\u001b[1;33m\u001b[0m\u001b[1;33m\u001b[0m\u001b[0m\n\u001b[0;32m    385\u001b[0m             \u001b[0mfjacinv\u001b[0m \u001b[1;33m=\u001b[0m \u001b[0mself\u001b[0m\u001b[1;33m.\u001b[0m\u001b[0mopts\u001b[0m\u001b[1;33m.\u001b[0m\u001b[0minitb\u001b[0m\u001b[1;33m\u001b[0m\u001b[1;33m\u001b[0m\u001b[0m\n",
      "\u001b[1;32m<__array_function__ internals>\u001b[0m in \u001b[0;36mpinv\u001b[1;34m(*args, **kwargs)\u001b[0m\n",
      "\u001b[1;32mc:\\Users\\Asdael\\Anaconda3\\envs\\ComputationalEconomics\\lib\\site-packages\\numpy\\linalg\\linalg.py\u001b[0m in \u001b[0;36mpinv\u001b[1;34m(a, rcond, hermitian)\u001b[0m\n\u001b[0;32m   1999\u001b[0m         \u001b[0mres\u001b[0m \u001b[1;33m=\u001b[0m \u001b[0mempty\u001b[0m\u001b[1;33m(\u001b[0m\u001b[0ma\u001b[0m\u001b[1;33m.\u001b[0m\u001b[0mshape\u001b[0m\u001b[1;33m[\u001b[0m\u001b[1;33m:\u001b[0m\u001b[1;33m-\u001b[0m\u001b[1;36m2\u001b[0m\u001b[1;33m]\u001b[0m \u001b[1;33m+\u001b[0m \u001b[1;33m(\u001b[0m\u001b[0mn\u001b[0m\u001b[1;33m,\u001b[0m \u001b[0mm\u001b[0m\u001b[1;33m)\u001b[0m\u001b[1;33m,\u001b[0m \u001b[0mdtype\u001b[0m\u001b[1;33m=\u001b[0m\u001b[0ma\u001b[0m\u001b[1;33m.\u001b[0m\u001b[0mdtype\u001b[0m\u001b[1;33m)\u001b[0m\u001b[1;33m\u001b[0m\u001b[1;33m\u001b[0m\u001b[0m\n\u001b[0;32m   2000\u001b[0m         \u001b[1;32mreturn\u001b[0m \u001b[0mwrap\u001b[0m\u001b[1;33m(\u001b[0m\u001b[0mres\u001b[0m\u001b[1;33m)\u001b[0m\u001b[1;33m\u001b[0m\u001b[1;33m\u001b[0m\u001b[0m\n\u001b[1;32m-> 2001\u001b[1;33m     \u001b[0ma\u001b[0m \u001b[1;33m=\u001b[0m \u001b[0ma\u001b[0m\u001b[1;33m.\u001b[0m\u001b[0mconjugate\u001b[0m\u001b[1;33m(\u001b[0m\u001b[1;33m)\u001b[0m\u001b[1;33m\u001b[0m\u001b[1;33m\u001b[0m\u001b[0m\n\u001b[0m\u001b[0;32m   2002\u001b[0m     \u001b[0mu\u001b[0m\u001b[1;33m,\u001b[0m \u001b[0ms\u001b[0m\u001b[1;33m,\u001b[0m \u001b[0mvt\u001b[0m \u001b[1;33m=\u001b[0m \u001b[0msvd\u001b[0m\u001b[1;33m(\u001b[0m\u001b[0ma\u001b[0m\u001b[1;33m,\u001b[0m \u001b[0mfull_matrices\u001b[0m\u001b[1;33m=\u001b[0m\u001b[1;32mFalse\u001b[0m\u001b[1;33m,\u001b[0m \u001b[0mhermitian\u001b[0m\u001b[1;33m=\u001b[0m\u001b[0mhermitian\u001b[0m\u001b[1;33m)\u001b[0m\u001b[1;33m\u001b[0m\u001b[1;33m\u001b[0m\u001b[0m\n\u001b[0;32m   2003\u001b[0m \u001b[1;33m\u001b[0m\u001b[0m\n",
      "\u001b[1;31mTypeError\u001b[0m: loop of ufunc does not support argument 0 of type NoneType which has no callable conjugate method"
     ]
    }
   ],
   "source": [
    "def raizcubica2(a):\n",
    "    x = NLP(lambda x: a-x**3).broyden([1.0], show=True)\n",
    "    return x\n",
    "\n",
    "raizcubica2(64)"
   ]
  },
  {
   "cell_type": "markdown",
   "id": "4a371e96-2f9d-404a-9d28-7f1e8ef6c880",
   "metadata": {
    "tags": []
   },
   "source": [
    "## Pregunta 6\n",
    "Con el método de iteración de funciones localice la raíz de\n",
    "\\begin{equation*}\n",
    "f(x) = \\sin\\left(\\sqrt{x}\\right) - x\n",
    "\\end{equation*}\n",
    "Use un valor inicial de $x_0=0.5$ y haga iteraciones hasta que el valor absoluto del cambio en $x$ de una iteración a la siguiente sea menor a $10^{-7}$.\n",
    "\n",
    "### (a)\n",
    "Sin utilizar la clase `NLP`."
   ]
  },
  {
   "cell_type": "code",
   "execution_count": 55,
   "id": "798e0e5d-76fc-458e-bff7-70eff5b4d45e",
   "metadata": {},
   "outputs": [
    {
     "name": "stdout",
     "output_type": "stream",
     "text": [
      "0.7686488518828323\n"
     ]
    }
   ],
   "source": [
    "x = 0.5\n",
    "for it in range(100):\n",
    "    xold, x = x, np.sin(np.sqrt(x))\n",
    "    if abs(x-xold)<1.e-8: break\n",
    "print(x)"
   ]
  },
  {
   "cell_type": "markdown",
   "id": "b8d0188c-9365-4ea3-a940-63ad8d5cf545",
   "metadata": {},
   "source": [
    "### (b)\n",
    "Utilizando la clase `NLP`."
   ]
  },
  {
   "cell_type": "code",
   "execution_count": 59,
   "id": "9251856f-c635-4c22-8dce-77287eda3d9a",
   "metadata": {},
   "outputs": [
    {
     "data": {
      "text/plain": [
       "0.7686488518828323"
      ]
     },
     "execution_count": 59,
     "metadata": {},
     "output_type": "execute_result"
    }
   ],
   "source": [
    "NLP(lambda x: np.sin(np.sqrt(x))).fixpoint([0.5])\n"
   ]
  },
  {
   "cell_type": "markdown",
   "id": "ae66d954-90a5-49f9-97cd-5545839403d6",
   "metadata": {},
   "source": [
    "## Pregunta 7\n",
    "\n",
    "Calcule las raíces de las siguientes ecuaciones simultáneas no lineales\n",
    "\\begin{align*}\n",
    "x &= y + x^2 - 0.5 \\\\\n",
    "y &= x^2 - 5xy\n",
    "\\end{align*}\n",
    "Emplee los valores iniciales $x=y=1.0$. Utilice la clase `NLP`.\n",
    "\n",
    "### (a)\n",
    "Usando iteración de funciones"
   ]
  },
  {
   "cell_type": "code",
   "execution_count": 64,
   "id": "7520cdd5-b32d-4b75-8774-a5a666e08381",
   "metadata": {},
   "outputs": [
    {
     "name": "stdout",
     "output_type": "stream",
     "text": [
      "None\n"
     ]
    }
   ],
   "source": [
    "def g(z):\n",
    "    x, y = z\n",
    "    return [y + x**2 - 0.5, x**2 -5*x*y]\n",
    "\n",
    "problem = NLP(g)\n",
    "a=problem.funcit([1,1])\n",
    "print(a)\n"
   ]
  },
  {
   "cell_type": "markdown",
   "id": "fb4a23a5-0b0b-4f36-a58f-c2f091cdff58",
   "metadata": {},
   "source": [
    "### (b)\n",
    "Usando el método de Newton "
   ]
  },
  {
   "cell_type": "code",
   "execution_count": 108,
   "id": "98cf6664-21ba-4368-9be3-f6b8a83c7b3b",
   "metadata": {},
   "outputs": [
    {
     "data": {
      "text/plain": [
       "array([0.6141, 0.1228])"
      ]
     },
     "execution_count": 108,
     "metadata": {},
     "output_type": "execute_result"
    }
   ],
   "source": [
    "def f(z):\n",
    "    x, y = z\n",
    "    f = [y + x**2 - 0.5, x**2 - 5*x*y]\n",
    "    df = [[2*x, 1], [2*x-5*y, -5*x]]\n",
    "    return f, df\n",
    "\n",
    "NLP(f).newton([1.0, 1.0])"
   ]
  },
  {
   "cell_type": "markdown",
   "id": "97417d66-f6e8-4113-93eb-7652cf3df62d",
   "metadata": {},
   "source": [
    "### (c) Usando el método de Broyden"
   ]
  },
  {
   "cell_type": "code",
   "execution_count": 98,
   "id": "0db6a0a6-6bcf-468f-bcd9-dd5c8e08e551",
   "metadata": {},
   "outputs": [
    {
     "ename": "TypeError",
     "evalue": "loop of ufunc does not support argument 0 of type NoneType which has no callable conjugate method",
     "output_type": "error",
     "traceback": [
      "\u001b[1;31m---------------------------------------------------------------------------\u001b[0m",
      "\u001b[1;31mAttributeError\u001b[0m                            Traceback (most recent call last)",
      "\u001b[1;31mAttributeError\u001b[0m: 'NoneType' object has no attribute 'conjugate'",
      "\nThe above exception was the direct cause of the following exception:\n",
      "\u001b[1;31mTypeError\u001b[0m                                 Traceback (most recent call last)",
      "\u001b[1;32m~\\AppData\\Local\\Temp\\ipykernel_7452\\3891700170.py\u001b[0m in \u001b[0;36m<module>\u001b[1;34m\u001b[0m\n\u001b[0;32m      3\u001b[0m     \u001b[1;32mreturn\u001b[0m \u001b[1;33m[\u001b[0m\u001b[0my\u001b[0m \u001b[1;33m+\u001b[0m \u001b[0mx\u001b[0m\u001b[1;33m**\u001b[0m\u001b[1;36m2\u001b[0m \u001b[1;33m-\u001b[0m \u001b[1;36m0.5\u001b[0m\u001b[1;33m,\u001b[0m \u001b[0mx\u001b[0m\u001b[1;33m**\u001b[0m\u001b[1;36m2\u001b[0m \u001b[1;33m-\u001b[0m\u001b[1;36m5\u001b[0m\u001b[1;33m*\u001b[0m\u001b[0mx\u001b[0m\u001b[1;33m*\u001b[0m\u001b[0my\u001b[0m\u001b[1;33m]\u001b[0m\u001b[1;33m\u001b[0m\u001b[1;33m\u001b[0m\u001b[0m\n\u001b[0;32m      4\u001b[0m \u001b[1;33m\u001b[0m\u001b[0m\n\u001b[1;32m----> 5\u001b[1;33m \u001b[0mNLP\u001b[0m\u001b[1;33m(\u001b[0m\u001b[0mh\u001b[0m\u001b[1;33m)\u001b[0m\u001b[1;33m.\u001b[0m\u001b[0mbroyden\u001b[0m\u001b[1;33m(\u001b[0m\u001b[1;33m[\u001b[0m\u001b[1;36m1.0\u001b[0m\u001b[1;33m,\u001b[0m \u001b[1;36m1.0\u001b[0m\u001b[1;33m]\u001b[0m\u001b[1;33m)\u001b[0m\u001b[1;33m\u001b[0m\u001b[1;33m\u001b[0m\u001b[0m\n\u001b[0m\u001b[0;32m      6\u001b[0m \u001b[0marray\u001b[0m\u001b[1;33m(\u001b[0m\u001b[1;33m[\u001b[0m\u001b[1;36m1.2333\u001b[0m\u001b[1;33m,\u001b[0m \u001b[1;36m0.2122\u001b[0m\u001b[1;33m]\u001b[0m\u001b[1;33m)\u001b[0m\u001b[1;33m\u001b[0m\u001b[1;33m\u001b[0m\u001b[0m\n",
      "\u001b[1;32mc:\\Users\\Asdael\\Anaconda3\\envs\\ComputationalEconomics\\lib\\site-packages\\compecon\\nonlinear.py\u001b[0m in \u001b[0;36mbroyden\u001b[1;34m(self, x0, **kwargs)\u001b[0m\n\u001b[0;32m    258\u001b[0m         \u001b[0mfx\u001b[0m\u001b[1;33m,\u001b[0m \u001b[0m_\u001b[0m \u001b[1;33m=\u001b[0m \u001b[0mself\u001b[0m\u001b[1;33m.\u001b[0m\u001b[0mf\u001b[0m\u001b[1;33m(\u001b[0m\u001b[0mx\u001b[0m\u001b[1;33m)\u001b[0m\u001b[1;33m\u001b[0m\u001b[1;33m\u001b[0m\u001b[0m\n\u001b[0;32m    259\u001b[0m \u001b[1;33m\u001b[0m\u001b[0m\n\u001b[1;32m--> 260\u001b[1;33m         \u001b[0mJinv\u001b[0m \u001b[1;33m=\u001b[0m \u001b[0mself\u001b[0m\u001b[1;33m.\u001b[0m\u001b[0mreset_inverse_jacobian\u001b[0m\u001b[1;33m(\u001b[0m\u001b[0mx\u001b[0m\u001b[1;33m)\u001b[0m\u001b[1;33m\u001b[0m\u001b[1;33m\u001b[0m\u001b[0m\n\u001b[0m\u001b[0;32m    261\u001b[0m \u001b[1;33m\u001b[0m\u001b[0m\n\u001b[0;32m    262\u001b[0m         \u001b[0mfnorm\u001b[0m \u001b[1;33m=\u001b[0m \u001b[0mnp\u001b[0m\u001b[1;33m.\u001b[0m\u001b[0mmax\u001b[0m\u001b[1;33m(\u001b[0m\u001b[0mnp\u001b[0m\u001b[1;33m.\u001b[0m\u001b[0mabs\u001b[0m\u001b[1;33m(\u001b[0m\u001b[0mfx\u001b[0m\u001b[1;33m)\u001b[0m\u001b[1;33m)\u001b[0m\u001b[1;33m\u001b[0m\u001b[1;33m\u001b[0m\u001b[0m\n",
      "\u001b[1;32mc:\\Users\\Asdael\\Anaconda3\\envs\\ComputationalEconomics\\lib\\site-packages\\compecon\\nonlinear.py\u001b[0m in \u001b[0;36mreset_inverse_jacobian\u001b[1;34m(self, x)\u001b[0m\n\u001b[0;32m    381\u001b[0m                 \u001b[0mfjac\u001b[0m \u001b[1;33m=\u001b[0m \u001b[0mself\u001b[0m\u001b[1;33m.\u001b[0m\u001b[0mf\u001b[0m\u001b[1;33m(\u001b[0m\u001b[0mx\u001b[0m\u001b[1;33m)\u001b[0m\u001b[1;33m[\u001b[0m\u001b[1;36m1\u001b[0m\u001b[1;33m]\u001b[0m\u001b[1;33m\u001b[0m\u001b[1;33m\u001b[0m\u001b[0m\n\u001b[0;32m    382\u001b[0m                 \u001b[1;31m# fjacinv = np.linalg.pinv(jacobian(self.f[0], x))\u001b[0m\u001b[1;33m\u001b[0m\u001b[1;33m\u001b[0m\u001b[0m\n\u001b[1;32m--> 383\u001b[1;33m                 \u001b[0mfjacinv\u001b[0m \u001b[1;33m=\u001b[0m \u001b[0mnp\u001b[0m\u001b[1;33m.\u001b[0m\u001b[0mlinalg\u001b[0m\u001b[1;33m.\u001b[0m\u001b[0mpinv\u001b[0m\u001b[1;33m(\u001b[0m\u001b[0mnp\u001b[0m\u001b[1;33m.\u001b[0m\u001b[0matleast_2d\u001b[0m\u001b[1;33m(\u001b[0m\u001b[0mfjac\u001b[0m\u001b[1;33m)\u001b[0m\u001b[1;33m)\u001b[0m\u001b[1;33m\u001b[0m\u001b[1;33m\u001b[0m\u001b[0m\n\u001b[0m\u001b[0;32m    384\u001b[0m         \u001b[1;32melse\u001b[0m\u001b[1;33m:\u001b[0m\u001b[1;33m\u001b[0m\u001b[1;33m\u001b[0m\u001b[0m\n\u001b[0;32m    385\u001b[0m             \u001b[0mfjacinv\u001b[0m \u001b[1;33m=\u001b[0m \u001b[0mself\u001b[0m\u001b[1;33m.\u001b[0m\u001b[0mopts\u001b[0m\u001b[1;33m.\u001b[0m\u001b[0minitb\u001b[0m\u001b[1;33m\u001b[0m\u001b[1;33m\u001b[0m\u001b[0m\n",
      "\u001b[1;32m<__array_function__ internals>\u001b[0m in \u001b[0;36mpinv\u001b[1;34m(*args, **kwargs)\u001b[0m\n",
      "\u001b[1;32mc:\\Users\\Asdael\\Anaconda3\\envs\\ComputationalEconomics\\lib\\site-packages\\numpy\\linalg\\linalg.py\u001b[0m in \u001b[0;36mpinv\u001b[1;34m(a, rcond, hermitian)\u001b[0m\n\u001b[0;32m   1999\u001b[0m         \u001b[0mres\u001b[0m \u001b[1;33m=\u001b[0m \u001b[0mempty\u001b[0m\u001b[1;33m(\u001b[0m\u001b[0ma\u001b[0m\u001b[1;33m.\u001b[0m\u001b[0mshape\u001b[0m\u001b[1;33m[\u001b[0m\u001b[1;33m:\u001b[0m\u001b[1;33m-\u001b[0m\u001b[1;36m2\u001b[0m\u001b[1;33m]\u001b[0m \u001b[1;33m+\u001b[0m \u001b[1;33m(\u001b[0m\u001b[0mn\u001b[0m\u001b[1;33m,\u001b[0m \u001b[0mm\u001b[0m\u001b[1;33m)\u001b[0m\u001b[1;33m,\u001b[0m \u001b[0mdtype\u001b[0m\u001b[1;33m=\u001b[0m\u001b[0ma\u001b[0m\u001b[1;33m.\u001b[0m\u001b[0mdtype\u001b[0m\u001b[1;33m)\u001b[0m\u001b[1;33m\u001b[0m\u001b[1;33m\u001b[0m\u001b[0m\n\u001b[0;32m   2000\u001b[0m         \u001b[1;32mreturn\u001b[0m \u001b[0mwrap\u001b[0m\u001b[1;33m(\u001b[0m\u001b[0mres\u001b[0m\u001b[1;33m)\u001b[0m\u001b[1;33m\u001b[0m\u001b[1;33m\u001b[0m\u001b[0m\n\u001b[1;32m-> 2001\u001b[1;33m     \u001b[0ma\u001b[0m \u001b[1;33m=\u001b[0m \u001b[0ma\u001b[0m\u001b[1;33m.\u001b[0m\u001b[0mconjugate\u001b[0m\u001b[1;33m(\u001b[0m\u001b[1;33m)\u001b[0m\u001b[1;33m\u001b[0m\u001b[1;33m\u001b[0m\u001b[0m\n\u001b[0m\u001b[0;32m   2002\u001b[0m     \u001b[0mu\u001b[0m\u001b[1;33m,\u001b[0m \u001b[0ms\u001b[0m\u001b[1;33m,\u001b[0m \u001b[0mvt\u001b[0m \u001b[1;33m=\u001b[0m \u001b[0msvd\u001b[0m\u001b[1;33m(\u001b[0m\u001b[0ma\u001b[0m\u001b[1;33m,\u001b[0m \u001b[0mfull_matrices\u001b[0m\u001b[1;33m=\u001b[0m\u001b[1;32mFalse\u001b[0m\u001b[1;33m,\u001b[0m \u001b[0mhermitian\u001b[0m\u001b[1;33m=\u001b[0m\u001b[0mhermitian\u001b[0m\u001b[1;33m)\u001b[0m\u001b[1;33m\u001b[0m\u001b[1;33m\u001b[0m\u001b[0m\n\u001b[0;32m   2003\u001b[0m \u001b[1;33m\u001b[0m\u001b[0m\n",
      "\u001b[1;31mTypeError\u001b[0m: loop of ufunc does not support argument 0 of type NoneType which has no callable conjugate method"
     ]
    }
   ],
   "source": [
    "def h(z):\n",
    "    x, y = z\n",
    "    return [y + x**2 - 0.5, x**2 -5*x*y]\n",
    "\n",
    "NLP(h).broyden([1.0, 1.0])\n",
    "array([1.2333, 0.2122])"
   ]
  },
  {
   "cell_type": "markdown",
   "id": "bd222425-8ad1-4982-8ebc-294b36235ffd",
   "metadata": {},
   "source": [
    "## Pregunta 8\n",
    "\n",
    "Considere el mercado de las papas, las cuales pueden almacenarse a lo largo de una temporada, pero no de una temporada a la siguiente. En este mercado, la cosecha $s$ de una temporada se consume completamente en dos períodos, $t=1,2$, con lo que debe cumplirse la restricción \n",
    "\\begin{equation*}\n",
    "s = c_1 + c_2\n",
    "\\end{equation*}\n",
    "donde $c_t$ es el consumo del período $t$.\n",
    "\n",
    "La competencia entre los almacenadores de papas elimina las oportunidades de arbitraje, por lo que\n",
    "\\begin{equation*}\n",
    "p_1 + \\kappa = \\delta p_2\n",
    "\\end{equation*}\n",
    "donde $p_t$ es el precio de equilibrio del período $t$, $k=0.2$ el costo unitario de almacenar papas por un período, y $\\delta=0.95$ es un factor de descuento. La demanda en cada período es\n",
    "\\begin{equation*}\n",
    "p_t = c_T^{-5}\n",
    "\\end{equation*}\n",
    "\n",
    "\n",
    "Calcule los precios de equilibrio $p_1,p_2$ para tamaños de cosecha $s=1$, $s=2$ y $s=3$."
   ]
  },
  {
   "cell_type": "code",
   "execution_count": 16,
   "id": "7a91f6ca-2285-4c7a-9d02-d36eecfe90ad",
   "metadata": {},
   "outputs": [],
   "source": [
    "def papas(c):\n",
    "    # c es un vector de tamaño 2, con la cantidad de papas de cada periodo\n",
    "    p = COMPLETAR_ESTO\n",
    "    f = [COMPLETAR_ESTO, COMPLETAR_ESTO]\n",
    "    return COMPLETAR_ESTO"
   ]
  },
  {
   "cell_type": "markdown",
   "id": "772aadf8",
   "metadata": {},
   "source": [
    "### Resolver para $s=1$"
   ]
  },
  {
   "cell_type": "code",
   "execution_count": 17,
   "id": "d2fb7c7b-2018-45c7-a191-09786413ad37",
   "metadata": {},
   "outputs": [
    {
     "data": {
      "text/html": [
       "<div>\n",
       "<style scoped>\n",
       "    .dataframe tbody tr th:only-of-type {\n",
       "        vertical-align: middle;\n",
       "    }\n",
       "\n",
       "    .dataframe tbody tr th {\n",
       "        vertical-align: top;\n",
       "    }\n",
       "\n",
       "    .dataframe thead th {\n",
       "        text-align: right;\n",
       "    }\n",
       "</style>\n",
       "<table border=\"1\" class=\"dataframe\">\n",
       "  <thead>\n",
       "    <tr style=\"text-align: right;\">\n",
       "      <th></th>\n",
       "      <th>s</th>\n",
       "      <th>c</th>\n",
       "      <th>p</th>\n",
       "    </tr>\n",
       "  </thead>\n",
       "  <tbody>\n",
       "    <tr>\n",
       "      <th>0</th>\n",
       "      <td>1.0</td>\n",
       "      <td>0.502886</td>\n",
       "      <td>31.092317</td>\n",
       "    </tr>\n",
       "    <tr>\n",
       "      <th>1</th>\n",
       "      <td>1.0</td>\n",
       "      <td>0.497115</td>\n",
       "      <td>32.939277</td>\n",
       "    </tr>\n",
       "  </tbody>\n",
       "</table>\n",
       "</div>"
      ],
      "text/plain": [
       "     s         c          p\n",
       "0  1.0  0.502886  31.092317\n",
       "1  1.0  0.497115  32.939277"
      ]
     },
     "execution_count": 17,
     "metadata": {},
     "output_type": "execute_result"
    }
   ],
   "source": [
    "s = COMPLETAR_ESTO\n",
    "c = NLP(COMPLETAR_ESTO).broyden(COMPLETAR_ESTO)\n",
    "pd.DataFrame(dict(s=s, c=c,p=c**-5))"
   ]
  },
  {
   "cell_type": "markdown",
   "id": "772aadf8",
   "metadata": {},
   "source": [
    "### Resolver para $s=2$"
   ]
  },
  {
   "cell_type": "code",
   "execution_count": 18,
   "id": "e6a68595-87af-4cce-9548-b1a867ef16b8",
   "metadata": {},
   "outputs": [
    {
     "data": {
      "text/html": [
       "<div>\n",
       "<style scoped>\n",
       "    .dataframe tbody tr th:only-of-type {\n",
       "        vertical-align: middle;\n",
       "    }\n",
       "\n",
       "    .dataframe tbody tr th {\n",
       "        vertical-align: top;\n",
       "    }\n",
       "\n",
       "    .dataframe thead th {\n",
       "        text-align: right;\n",
       "    }\n",
       "</style>\n",
       "<table border=\"1\" class=\"dataframe\">\n",
       "  <thead>\n",
       "    <tr style=\"text-align: right;\">\n",
       "      <th></th>\n",
       "      <th>s</th>\n",
       "      <th>c</th>\n",
       "      <th>p</th>\n",
       "    </tr>\n",
       "  </thead>\n",
       "  <tbody>\n",
       "    <tr>\n",
       "      <th>0</th>\n",
       "      <td>2.0</td>\n",
       "      <td>1.025574</td>\n",
       "      <td>0.881383</td>\n",
       "    </tr>\n",
       "    <tr>\n",
       "      <th>1</th>\n",
       "      <td>2.0</td>\n",
       "      <td>0.974426</td>\n",
       "      <td>1.138298</td>\n",
       "    </tr>\n",
       "  </tbody>\n",
       "</table>\n",
       "</div>"
      ],
      "text/plain": [
       "     s         c         p\n",
       "0  2.0  1.025574  0.881383\n",
       "1  2.0  0.974426  1.138298"
      ]
     },
     "execution_count": 18,
     "metadata": {},
     "output_type": "execute_result"
    }
   ],
   "source": [
    "s = COMPLETAR_ESTO\n",
    "c = NLP(COMPLETAR_ESTO).broyden(COMPLETAR_ESTO)\n",
    "pd.DataFrame(dict(s=s, c=COMPLETAR_ESTO,p=COMPLETAR_ESTO))"
   ]
  },
  {
   "cell_type": "markdown",
   "id": "772aadf8",
   "metadata": {},
   "source": [
    "### Resolver para $s=3$"
   ]
  },
  {
   "cell_type": "code",
   "execution_count": 19,
   "id": "2183b9ec-99e6-4652-90d2-ad13b63de5dc",
   "metadata": {},
   "outputs": [
    {
     "data": {
      "text/html": [
       "<div>\n",
       "<style scoped>\n",
       "    .dataframe tbody tr th:only-of-type {\n",
       "        vertical-align: middle;\n",
       "    }\n",
       "\n",
       "    .dataframe tbody tr th {\n",
       "        vertical-align: top;\n",
       "    }\n",
       "\n",
       "    .dataframe thead th {\n",
       "        text-align: right;\n",
       "    }\n",
       "</style>\n",
       "<table border=\"1\" class=\"dataframe\">\n",
       "  <thead>\n",
       "    <tr style=\"text-align: right;\">\n",
       "      <th></th>\n",
       "      <th>s</th>\n",
       "      <th>c</th>\n",
       "      <th>p</th>\n",
       "    </tr>\n",
       "  </thead>\n",
       "  <tbody>\n",
       "    <tr>\n",
       "      <th>0</th>\n",
       "      <td>3.0</td>\n",
       "      <td>1.711992</td>\n",
       "      <td>0.067997</td>\n",
       "    </tr>\n",
       "    <tr>\n",
       "      <th>1</th>\n",
       "      <td>3.0</td>\n",
       "      <td>1.288008</td>\n",
       "      <td>0.282102</td>\n",
       "    </tr>\n",
       "  </tbody>\n",
       "</table>\n",
       "</div>"
      ],
      "text/plain": [
       "     s         c         p\n",
       "0  3.0  1.711992  0.067997\n",
       "1  3.0  1.288008  0.282102"
      ]
     },
     "execution_count": 19,
     "metadata": {},
     "output_type": "execute_result"
    }
   ],
   "source": [
    "COMPLETAR_ESTO"
   ]
  }
 ],
 "metadata": {
  "kernelspec": {
   "display_name": "Python 3.9.7 ('base')",
   "language": "python",
   "name": "python3"
  },
  "language_info": {
   "codemirror_mode": {
    "name": "ipython",
    "version": 3
   },
   "file_extension": ".py",
   "mimetype": "text/x-python",
   "name": "python",
   "nbconvert_exporter": "python",
   "pygments_lexer": "ipython3",
   "version": "3.9.7"
  },
  "vscode": {
   "interpreter": {
    "hash": "ad2bdc8ecc057115af97d19610ffacc2b4e99fae6737bb82f5d7fb13d2f2c186"
   }
  }
 },
 "nbformat": 4,
 "nbformat_minor": 5
}
