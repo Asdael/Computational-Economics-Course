{
 "cells": [
  {
   "cell_type": "markdown",
   "metadata": {},
   "source": [
    "Name: Alexander Robles V / B76394"
   ]
  },
  {
   "cell_type": "code",
   "execution_count": 1,
   "metadata": {},
   "outputs": [],
   "source": [
    "import numpy as np\n",
    "import matplotlib.pyplot as plt\n",
    "from compecon import NLP"
   ]
  },
  {
   "cell_type": "markdown",
   "metadata": {},
   "source": [
    "Solution of Cournot model in explicit form\n",
    "\n",
    "Remember the optimal condition:\n",
    "\n",
    "$$\\frac{\\partial \\pi }{\\partial q_1} = (q_1+q_2)^{-\\alpha} -\\alpha q_1(q_1+q_2)^{-\\alpha-1} - \\beta_1 q_1 = 0 $$"
   ]
  },
  {
   "cell_type": "code",
   "execution_count": 2,
   "metadata": {},
   "outputs": [
    {
     "ename": "TypeError",
     "evalue": "loop of ufunc does not support argument 0 of type NoneType which has no callable conjugate method",
     "output_type": "error",
     "traceback": [
      "\u001b[1;31m---------------------------------------------------------------------------\u001b[0m",
      "\u001b[1;31mAttributeError\u001b[0m                            Traceback (most recent call last)",
      "\u001b[1;31mAttributeError\u001b[0m: 'NoneType' object has no attribute 'conjugate'",
      "\nThe above exception was the direct cause of the following exception:\n",
      "\u001b[1;31mTypeError\u001b[0m                                 Traceback (most recent call last)",
      "\u001b[1;32me:\\Program\\Computational-Economics-Course\\First assignment\\Cournot model in explicit form.ipynb Cell 4\u001b[0m in \u001b[0;36m<cell line: 17>\u001b[1;34m()\u001b[0m\n\u001b[0;32m     <a href='vscode-notebook-cell:/e%3A/Program/Computational-Economics-Course/First%20assignment/Cournot%20model%20in%20explicit%20form.ipynb#W3sZmlsZQ%3D%3D?line=12'>13</a>\u001b[0m     Pi_dif_2 \u001b[39m=\u001b[39m P \u001b[39m+\u001b[39m q2\u001b[39m*\u001b[39m(P_dif \u001b[39m-\u001b[39m beta2)\n\u001b[0;32m     <a href='vscode-notebook-cell:/e%3A/Program/Computational-Economics-Course/First%20assignment/Cournot%20model%20in%20explicit%20form.ipynb#W3sZmlsZQ%3D%3D?line=14'>15</a>\u001b[0m     \u001b[39mreturn\u001b[39;00m np\u001b[39m.\u001b[39marray([Pi_dif_1, Pi_dif_2])\n\u001b[1;32m---> <a href='vscode-notebook-cell:/e%3A/Program/Computational-Economics-Course/First%20assignment/Cournot%20model%20in%20explicit%20form.ipynb#W3sZmlsZQ%3D%3D?line=16'>17</a>\u001b[0m NLP(cournot)\u001b[39m.\u001b[39;49mbroyden([\u001b[39m0.2\u001b[39;49m,\u001b[39m0.2\u001b[39;49m])\n",
      "File \u001b[1;32mc:\\Users\\Asdael\\Anaconda3\\lib\\site-packages\\compecon\\nonlinear.py:260\u001b[0m, in \u001b[0;36mNLP.broyden\u001b[1;34m(self, x0, **kwargs)\u001b[0m\n\u001b[0;32m    257\u001b[0m maxsteps \u001b[39m=\u001b[39m \u001b[39mmax\u001b[39m(\u001b[39m1\u001b[39m, maxsteps)\n\u001b[0;32m    258\u001b[0m fx, _ \u001b[39m=\u001b[39m \u001b[39mself\u001b[39m\u001b[39m.\u001b[39mf(x)\n\u001b[1;32m--> 260\u001b[0m Jinv \u001b[39m=\u001b[39m \u001b[39mself\u001b[39;49m\u001b[39m.\u001b[39;49mreset_inverse_jacobian(x)\n\u001b[0;32m    262\u001b[0m fnorm \u001b[39m=\u001b[39m np\u001b[39m.\u001b[39mmax(np\u001b[39m.\u001b[39mabs(fx))\n\u001b[0;32m    264\u001b[0m \u001b[39m# Iterate to find solution\u001b[39;00m\n",
      "File \u001b[1;32mc:\\Users\\Asdael\\Anaconda3\\lib\\site-packages\\compecon\\nonlinear.py:383\u001b[0m, in \u001b[0;36mNLP.reset_inverse_jacobian\u001b[1;34m(self, x)\u001b[0m\n\u001b[0;32m    381\u001b[0m         fjac \u001b[39m=\u001b[39m \u001b[39mself\u001b[39m\u001b[39m.\u001b[39mf(x)[\u001b[39m1\u001b[39m]\n\u001b[0;32m    382\u001b[0m         \u001b[39m# fjacinv = np.linalg.pinv(jacobian(self.f[0], x))\u001b[39;00m\n\u001b[1;32m--> 383\u001b[0m         fjacinv \u001b[39m=\u001b[39m np\u001b[39m.\u001b[39;49mlinalg\u001b[39m.\u001b[39;49mpinv(np\u001b[39m.\u001b[39;49matleast_2d(fjac))\n\u001b[0;32m    384\u001b[0m \u001b[39melse\u001b[39;00m:\n\u001b[0;32m    385\u001b[0m     fjacinv \u001b[39m=\u001b[39m \u001b[39mself\u001b[39m\u001b[39m.\u001b[39mopts\u001b[39m.\u001b[39minitb\n",
      "File \u001b[1;32m<__array_function__ internals>:5\u001b[0m, in \u001b[0;36mpinv\u001b[1;34m(*args, **kwargs)\u001b[0m\n",
      "File \u001b[1;32mc:\\Users\\Asdael\\Anaconda3\\lib\\site-packages\\numpy\\linalg\\linalg.py:2001\u001b[0m, in \u001b[0;36mpinv\u001b[1;34m(a, rcond, hermitian)\u001b[0m\n\u001b[0;32m   1999\u001b[0m     res \u001b[39m=\u001b[39m empty(a\u001b[39m.\u001b[39mshape[:\u001b[39m-\u001b[39m\u001b[39m2\u001b[39m] \u001b[39m+\u001b[39m (n, m), dtype\u001b[39m=\u001b[39ma\u001b[39m.\u001b[39mdtype)\n\u001b[0;32m   2000\u001b[0m     \u001b[39mreturn\u001b[39;00m wrap(res)\n\u001b[1;32m-> 2001\u001b[0m a \u001b[39m=\u001b[39m a\u001b[39m.\u001b[39;49mconjugate()\n\u001b[0;32m   2002\u001b[0m u, s, vt \u001b[39m=\u001b[39m svd(a, full_matrices\u001b[39m=\u001b[39m\u001b[39mFalse\u001b[39;00m, hermitian\u001b[39m=\u001b[39mhermitian)\n\u001b[0;32m   2004\u001b[0m \u001b[39m# discard small singular values\u001b[39;00m\n",
      "\u001b[1;31mTypeError\u001b[0m: loop of ufunc does not support argument 0 of type NoneType which has no callable conjugate method"
     ]
    }
   ],
   "source": [
    "alpha, beta = 0.6, np.array([0.6, 0.8])\n",
    "\n",
    "def cournot(q):\n",
    "\n",
    "    q1, q2 = q\n",
    "    beta1, beta2 = beta\n",
    "\n",
    "    qsum = q1 + q2\n",
    "    P = qsum**(-alpha)\n",
    "    P_dif = -alpha*qsum**(-alpha-1)\n",
    "\n",
    "    Pi_dif_1 = P + q1*(P_dif - beta1)\n",
    "    Pi_dif_2 = P + q2*(P_dif - beta2)\n",
    "\n",
    "    return np.array([Pi_dif_1, Pi_dif_2])\n",
    "\n",
    "NLP(cournot).broyden([0.2,0.2])"
   ]
  }
 ],
 "metadata": {
  "kernelspec": {
   "display_name": "Python 3.9.12 ('base')",
   "language": "python",
   "name": "python3"
  },
  "language_info": {
   "codemirror_mode": {
    "name": "ipython",
    "version": 3
   },
   "file_extension": ".py",
   "mimetype": "text/x-python",
   "name": "python",
   "nbconvert_exporter": "python",
   "pygments_lexer": "ipython3",
   "version": "3.9.12"
  },
  "orig_nbformat": 4,
  "vscode": {
   "interpreter": {
    "hash": "89f7b93e286ad0e59b71eddd4327f1aa3f66a397dffead37ddb4c8d1554bc7e5"
   }
  }
 },
 "nbformat": 4,
 "nbformat_minor": 2
}
