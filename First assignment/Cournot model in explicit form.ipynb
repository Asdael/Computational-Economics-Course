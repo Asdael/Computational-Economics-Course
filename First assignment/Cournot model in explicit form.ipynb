{
 "cells": [
  {
   "cell_type": "markdown",
   "metadata": {},
   "source": [
    "Name: Alexander Robles V / B76394"
   ]
  },
  {
   "cell_type": "code",
   "execution_count": 12,
   "metadata": {},
   "outputs": [],
   "source": [
    "import numpy as np\n",
    "import matplotlib.pyplot as plt\n",
    "from compecon import NLP"
   ]
  },
  {
   "cell_type": "markdown",
   "metadata": {},
   "source": [
    "Solution of Cournot model in explicit form\n",
    "\n",
    "Remember the optimal condition:\n",
    "\n",
    "$$\\frac{\\partial \\pi }{\\partial q_1} = (q_1+q_2)^{-\\alpha} -\\alpha q_1(q_1+q_2)^{-\\alpha-1} - \\beta_1 q_1 = 0 $$"
   ]
  },
  {
   "cell_type": "code",
   "execution_count": 33,
   "metadata": {},
   "outputs": [
    {
     "data": {
      "text/plain": [
       "array([0.8562, 0.7   ])"
      ]
     },
     "execution_count": 33,
     "metadata": {},
     "output_type": "execute_result"
    }
   ],
   "source": [
    "alpha, beta = 0.6, np.array([0.6, 0.8])\n",
    "\n",
    "def cournot(q):\n",
    "\n",
    "    q1, q2 = q\n",
    "    beta1, beta2 = beta\n",
    "\n",
    "    qsum = q1 + q2\n",
    "    P = qsum**(-alpha)\n",
    "    P_dif = -alpha*qsum**(-alpha-1)\n",
    "\n",
    "    Pi_dif_1 = P + q1*(P_dif - beta1)\n",
    "    Pi_dif_2 = P + q2*(P_dif - beta2)\n",
    "\n",
    "    return np.array([Pi_dif_1, Pi_dif_2])\n",
    "\n",
    "NLP(cournot).broyden([0.2,0.2])"
   ]
  }
 ],
 "metadata": {
  "kernelspec": {
   "display_name": "Python 3.8.5 ('base')",
   "language": "python",
   "name": "python3"
  },
  "language_info": {
   "codemirror_mode": {
    "name": "ipython",
    "version": 3
   },
   "file_extension": ".py",
   "mimetype": "text/x-python",
   "name": "python",
   "nbconvert_exporter": "python",
   "pygments_lexer": "ipython3",
   "version": "3.8.5"
  },
  "orig_nbformat": 4,
  "vscode": {
   "interpreter": {
    "hash": "8466516292169b59a3bc6d4d3adaad0b1f8621198eb8dc76af5e426afd10998b"
   }
  }
 },
 "nbformat": 4,
 "nbformat_minor": 2
}
